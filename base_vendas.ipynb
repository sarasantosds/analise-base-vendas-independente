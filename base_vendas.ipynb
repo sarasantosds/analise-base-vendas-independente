{
  "nbformat": 4,
  "nbformat_minor": 0,
  "metadata": {
    "colab": {
      "provenance": [],
      "authorship_tag": "ABX9TyMllFoLUp7zkKODHUQxt0kA",
      "include_colab_link": true
    },
    "kernelspec": {
      "name": "python3",
      "display_name": "Python 3"
    },
    "language_info": {
      "name": "python"
    }
  },
  "cells": [
    {
      "cell_type": "markdown",
      "metadata": {
        "id": "view-in-github",
        "colab_type": "text"
      },
      "source": [
        "<a href=\"https://colab.research.google.com/github/sarasantosds/analise-base-vendas-independente/blob/main/base_vendas.ipynb\" target=\"_parent\"><img src=\"https://colab.research.google.com/assets/colab-badge.svg\" alt=\"Open In Colab\"/></a>"
      ]
    },
    {
      "cell_type": "code",
      "execution_count": null,
      "metadata": {
        "id": "tNzey3TpWbo8"
      },
      "outputs": [],
      "source": [
        "import pandas as pd\n",
        "import numpy as np\n",
        "import seaborn as sns\n",
        "import matplotlib.pyplot as plt"
      ]
    },
    {
      "cell_type": "code",
      "source": [
        "df = pd.read_excel('base-vendas.xlsx')"
      ],
      "metadata": {
        "id": "KHNyLX1d0F_m"
      },
      "execution_count": null,
      "outputs": []
    },
    {
      "cell_type": "code",
      "source": [
        "df.head()"
      ],
      "metadata": {
        "colab": {
          "base_uri": "https://localhost:8080/",
          "height": 206
        },
        "id": "KX_tbcXO0PKh",
        "outputId": "b091437a-a0a9-49da-9d97-8814746fcec2"
      },
      "execution_count": null,
      "outputs": [
        {
          "output_type": "execute_result",
          "data": {
            "text/plain": [
              "        Data   Ano  Mês       Vendedor          Cliente        Região Produto  \\\n",
              "0 2019-01-01  2019  jan     Paulo Lira  Thamires Bastos       Sudeste  Python   \n",
              "1 2019-01-01  2019  jan     Paulo Lira  Jessika Mineiro  Centro-Oeste   Excel   \n",
              "2 2019-01-02  2019  jan   Diego Amorim    Glenda Jalles         Norte     VBA   \n",
              "3 2019-01-02  2019  jan   Diego Amorim   Eugênio Mattos           Sul  Python   \n",
              "4 2019-01-02  2019  jan  Alon Pinheiro    Yasmine Gomes         Norte     VBA   \n",
              "\n",
              "   Valor          FormaPgto  \n",
              "0    450   Cartão de Débito  \n",
              "1    500   Cartão de Débito  \n",
              "2    600  Cartão de Crédito  \n",
              "3    450   Cartão de Débito  \n",
              "4    600    Boleto Bancário  "
            ],
            "text/html": [
              "\n",
              "  <div id=\"df-e05f7afc-4c0b-4664-a696-d99294a9f80e\" class=\"colab-df-container\">\n",
              "    <div>\n",
              "<style scoped>\n",
              "    .dataframe tbody tr th:only-of-type {\n",
              "        vertical-align: middle;\n",
              "    }\n",
              "\n",
              "    .dataframe tbody tr th {\n",
              "        vertical-align: top;\n",
              "    }\n",
              "\n",
              "    .dataframe thead th {\n",
              "        text-align: right;\n",
              "    }\n",
              "</style>\n",
              "<table border=\"1\" class=\"dataframe\">\n",
              "  <thead>\n",
              "    <tr style=\"text-align: right;\">\n",
              "      <th></th>\n",
              "      <th>Data</th>\n",
              "      <th>Ano</th>\n",
              "      <th>Mês</th>\n",
              "      <th>Vendedor</th>\n",
              "      <th>Cliente</th>\n",
              "      <th>Região</th>\n",
              "      <th>Produto</th>\n",
              "      <th>Valor</th>\n",
              "      <th>FormaPgto</th>\n",
              "    </tr>\n",
              "  </thead>\n",
              "  <tbody>\n",
              "    <tr>\n",
              "      <th>0</th>\n",
              "      <td>2019-01-01</td>\n",
              "      <td>2019</td>\n",
              "      <td>jan</td>\n",
              "      <td>Paulo Lira</td>\n",
              "      <td>Thamires Bastos</td>\n",
              "      <td>Sudeste</td>\n",
              "      <td>Python</td>\n",
              "      <td>450</td>\n",
              "      <td>Cartão de Débito</td>\n",
              "    </tr>\n",
              "    <tr>\n",
              "      <th>1</th>\n",
              "      <td>2019-01-01</td>\n",
              "      <td>2019</td>\n",
              "      <td>jan</td>\n",
              "      <td>Paulo Lira</td>\n",
              "      <td>Jessika Mineiro</td>\n",
              "      <td>Centro-Oeste</td>\n",
              "      <td>Excel</td>\n",
              "      <td>500</td>\n",
              "      <td>Cartão de Débito</td>\n",
              "    </tr>\n",
              "    <tr>\n",
              "      <th>2</th>\n",
              "      <td>2019-01-02</td>\n",
              "      <td>2019</td>\n",
              "      <td>jan</td>\n",
              "      <td>Diego Amorim</td>\n",
              "      <td>Glenda Jalles</td>\n",
              "      <td>Norte</td>\n",
              "      <td>VBA</td>\n",
              "      <td>600</td>\n",
              "      <td>Cartão de Crédito</td>\n",
              "    </tr>\n",
              "    <tr>\n",
              "      <th>3</th>\n",
              "      <td>2019-01-02</td>\n",
              "      <td>2019</td>\n",
              "      <td>jan</td>\n",
              "      <td>Diego Amorim</td>\n",
              "      <td>Eugênio Mattos</td>\n",
              "      <td>Sul</td>\n",
              "      <td>Python</td>\n",
              "      <td>450</td>\n",
              "      <td>Cartão de Débito</td>\n",
              "    </tr>\n",
              "    <tr>\n",
              "      <th>4</th>\n",
              "      <td>2019-01-02</td>\n",
              "      <td>2019</td>\n",
              "      <td>jan</td>\n",
              "      <td>Alon Pinheiro</td>\n",
              "      <td>Yasmine Gomes</td>\n",
              "      <td>Norte</td>\n",
              "      <td>VBA</td>\n",
              "      <td>600</td>\n",
              "      <td>Boleto Bancário</td>\n",
              "    </tr>\n",
              "  </tbody>\n",
              "</table>\n",
              "</div>\n",
              "    <div class=\"colab-df-buttons\">\n",
              "\n",
              "  <div class=\"colab-df-container\">\n",
              "    <button class=\"colab-df-convert\" onclick=\"convertToInteractive('df-e05f7afc-4c0b-4664-a696-d99294a9f80e')\"\n",
              "            title=\"Convert this dataframe to an interactive table.\"\n",
              "            style=\"display:none;\">\n",
              "\n",
              "  <svg xmlns=\"http://www.w3.org/2000/svg\" height=\"24px\" viewBox=\"0 -960 960 960\">\n",
              "    <path d=\"M120-120v-720h720v720H120Zm60-500h600v-160H180v160Zm220 220h160v-160H400v160Zm0 220h160v-160H400v160ZM180-400h160v-160H180v160Zm440 0h160v-160H620v160ZM180-180h160v-160H180v160Zm440 0h160v-160H620v160Z\"/>\n",
              "  </svg>\n",
              "    </button>\n",
              "\n",
              "  <style>\n",
              "    .colab-df-container {\n",
              "      display:flex;\n",
              "      gap: 12px;\n",
              "    }\n",
              "\n",
              "    .colab-df-convert {\n",
              "      background-color: #E8F0FE;\n",
              "      border: none;\n",
              "      border-radius: 50%;\n",
              "      cursor: pointer;\n",
              "      display: none;\n",
              "      fill: #1967D2;\n",
              "      height: 32px;\n",
              "      padding: 0 0 0 0;\n",
              "      width: 32px;\n",
              "    }\n",
              "\n",
              "    .colab-df-convert:hover {\n",
              "      background-color: #E2EBFA;\n",
              "      box-shadow: 0px 1px 2px rgba(60, 64, 67, 0.3), 0px 1px 3px 1px rgba(60, 64, 67, 0.15);\n",
              "      fill: #174EA6;\n",
              "    }\n",
              "\n",
              "    .colab-df-buttons div {\n",
              "      margin-bottom: 4px;\n",
              "    }\n",
              "\n",
              "    [theme=dark] .colab-df-convert {\n",
              "      background-color: #3B4455;\n",
              "      fill: #D2E3FC;\n",
              "    }\n",
              "\n",
              "    [theme=dark] .colab-df-convert:hover {\n",
              "      background-color: #434B5C;\n",
              "      box-shadow: 0px 1px 3px 1px rgba(0, 0, 0, 0.15);\n",
              "      filter: drop-shadow(0px 1px 2px rgba(0, 0, 0, 0.3));\n",
              "      fill: #FFFFFF;\n",
              "    }\n",
              "  </style>\n",
              "\n",
              "    <script>\n",
              "      const buttonEl =\n",
              "        document.querySelector('#df-e05f7afc-4c0b-4664-a696-d99294a9f80e button.colab-df-convert');\n",
              "      buttonEl.style.display =\n",
              "        google.colab.kernel.accessAllowed ? 'block' : 'none';\n",
              "\n",
              "      async function convertToInteractive(key) {\n",
              "        const element = document.querySelector('#df-e05f7afc-4c0b-4664-a696-d99294a9f80e');\n",
              "        const dataTable =\n",
              "          await google.colab.kernel.invokeFunction('convertToInteractive',\n",
              "                                                    [key], {});\n",
              "        if (!dataTable) return;\n",
              "\n",
              "        const docLinkHtml = 'Like what you see? Visit the ' +\n",
              "          '<a target=\"_blank\" href=https://colab.research.google.com/notebooks/data_table.ipynb>data table notebook</a>'\n",
              "          + ' to learn more about interactive tables.';\n",
              "        element.innerHTML = '';\n",
              "        dataTable['output_type'] = 'display_data';\n",
              "        await google.colab.output.renderOutput(dataTable, element);\n",
              "        const docLink = document.createElement('div');\n",
              "        docLink.innerHTML = docLinkHtml;\n",
              "        element.appendChild(docLink);\n",
              "      }\n",
              "    </script>\n",
              "  </div>\n",
              "\n",
              "\n",
              "    <div id=\"df-92fc6162-bfd8-43ef-b32f-c8e2840f48d9\">\n",
              "      <button class=\"colab-df-quickchart\" onclick=\"quickchart('df-92fc6162-bfd8-43ef-b32f-c8e2840f48d9')\"\n",
              "                title=\"Suggest charts\"\n",
              "                style=\"display:none;\">\n",
              "\n",
              "<svg xmlns=\"http://www.w3.org/2000/svg\" height=\"24px\"viewBox=\"0 0 24 24\"\n",
              "     width=\"24px\">\n",
              "    <g>\n",
              "        <path d=\"M19 3H5c-1.1 0-2 .9-2 2v14c0 1.1.9 2 2 2h14c1.1 0 2-.9 2-2V5c0-1.1-.9-2-2-2zM9 17H7v-7h2v7zm4 0h-2V7h2v10zm4 0h-2v-4h2v4z\"/>\n",
              "    </g>\n",
              "</svg>\n",
              "      </button>\n",
              "\n",
              "<style>\n",
              "  .colab-df-quickchart {\n",
              "      --bg-color: #E8F0FE;\n",
              "      --fill-color: #1967D2;\n",
              "      --hover-bg-color: #E2EBFA;\n",
              "      --hover-fill-color: #174EA6;\n",
              "      --disabled-fill-color: #AAA;\n",
              "      --disabled-bg-color: #DDD;\n",
              "  }\n",
              "\n",
              "  [theme=dark] .colab-df-quickchart {\n",
              "      --bg-color: #3B4455;\n",
              "      --fill-color: #D2E3FC;\n",
              "      --hover-bg-color: #434B5C;\n",
              "      --hover-fill-color: #FFFFFF;\n",
              "      --disabled-bg-color: #3B4455;\n",
              "      --disabled-fill-color: #666;\n",
              "  }\n",
              "\n",
              "  .colab-df-quickchart {\n",
              "    background-color: var(--bg-color);\n",
              "    border: none;\n",
              "    border-radius: 50%;\n",
              "    cursor: pointer;\n",
              "    display: none;\n",
              "    fill: var(--fill-color);\n",
              "    height: 32px;\n",
              "    padding: 0;\n",
              "    width: 32px;\n",
              "  }\n",
              "\n",
              "  .colab-df-quickchart:hover {\n",
              "    background-color: var(--hover-bg-color);\n",
              "    box-shadow: 0 1px 2px rgba(60, 64, 67, 0.3), 0 1px 3px 1px rgba(60, 64, 67, 0.15);\n",
              "    fill: var(--button-hover-fill-color);\n",
              "  }\n",
              "\n",
              "  .colab-df-quickchart-complete:disabled,\n",
              "  .colab-df-quickchart-complete:disabled:hover {\n",
              "    background-color: var(--disabled-bg-color);\n",
              "    fill: var(--disabled-fill-color);\n",
              "    box-shadow: none;\n",
              "  }\n",
              "\n",
              "  .colab-df-spinner {\n",
              "    border: 2px solid var(--fill-color);\n",
              "    border-color: transparent;\n",
              "    border-bottom-color: var(--fill-color);\n",
              "    animation:\n",
              "      spin 1s steps(1) infinite;\n",
              "  }\n",
              "\n",
              "  @keyframes spin {\n",
              "    0% {\n",
              "      border-color: transparent;\n",
              "      border-bottom-color: var(--fill-color);\n",
              "      border-left-color: var(--fill-color);\n",
              "    }\n",
              "    20% {\n",
              "      border-color: transparent;\n",
              "      border-left-color: var(--fill-color);\n",
              "      border-top-color: var(--fill-color);\n",
              "    }\n",
              "    30% {\n",
              "      border-color: transparent;\n",
              "      border-left-color: var(--fill-color);\n",
              "      border-top-color: var(--fill-color);\n",
              "      border-right-color: var(--fill-color);\n",
              "    }\n",
              "    40% {\n",
              "      border-color: transparent;\n",
              "      border-right-color: var(--fill-color);\n",
              "      border-top-color: var(--fill-color);\n",
              "    }\n",
              "    60% {\n",
              "      border-color: transparent;\n",
              "      border-right-color: var(--fill-color);\n",
              "    }\n",
              "    80% {\n",
              "      border-color: transparent;\n",
              "      border-right-color: var(--fill-color);\n",
              "      border-bottom-color: var(--fill-color);\n",
              "    }\n",
              "    90% {\n",
              "      border-color: transparent;\n",
              "      border-bottom-color: var(--fill-color);\n",
              "    }\n",
              "  }\n",
              "</style>\n",
              "\n",
              "      <script>\n",
              "        async function quickchart(key) {\n",
              "          const quickchartButtonEl =\n",
              "            document.querySelector('#' + key + ' button');\n",
              "          quickchartButtonEl.disabled = true;  // To prevent multiple clicks.\n",
              "          quickchartButtonEl.classList.add('colab-df-spinner');\n",
              "          try {\n",
              "            const charts = await google.colab.kernel.invokeFunction(\n",
              "                'suggestCharts', [key], {});\n",
              "          } catch (error) {\n",
              "            console.error('Error during call to suggestCharts:', error);\n",
              "          }\n",
              "          quickchartButtonEl.classList.remove('colab-df-spinner');\n",
              "          quickchartButtonEl.classList.add('colab-df-quickchart-complete');\n",
              "        }\n",
              "        (() => {\n",
              "          let quickchartButtonEl =\n",
              "            document.querySelector('#df-92fc6162-bfd8-43ef-b32f-c8e2840f48d9 button');\n",
              "          quickchartButtonEl.style.display =\n",
              "            google.colab.kernel.accessAllowed ? 'block' : 'none';\n",
              "        })();\n",
              "      </script>\n",
              "    </div>\n",
              "\n",
              "    </div>\n",
              "  </div>\n"
            ],
            "application/vnd.google.colaboratory.intrinsic+json": {
              "type": "dataframe",
              "variable_name": "df",
              "summary": "{\n  \"name\": \"df\",\n  \"rows\": 3669,\n  \"fields\": [\n    {\n      \"column\": \"Data\",\n      \"properties\": {\n        \"dtype\": \"date\",\n        \"min\": \"2019-01-01 00:00:00\",\n        \"max\": \"2021-12-31 00:00:00\",\n        \"num_unique_values\": 1056,\n        \"samples\": [\n          \"2019-10-02 00:00:00\",\n          \"2021-05-16 00:00:00\",\n          \"2021-05-30 00:00:00\"\n        ],\n        \"semantic_type\": \"\",\n        \"description\": \"\"\n      }\n    },\n    {\n      \"column\": \"Ano\",\n      \"properties\": {\n        \"dtype\": \"number\",\n        \"std\": 0,\n        \"min\": 2019,\n        \"max\": 2021,\n        \"num_unique_values\": 3,\n        \"samples\": [\n          2019,\n          2020,\n          2021\n        ],\n        \"semantic_type\": \"\",\n        \"description\": \"\"\n      }\n    },\n    {\n      \"column\": \"M\\u00eas\",\n      \"properties\": {\n        \"dtype\": \"category\",\n        \"num_unique_values\": 12,\n        \"samples\": [\n          \"nov\",\n          \"out\",\n          \"jan\"\n        ],\n        \"semantic_type\": \"\",\n        \"description\": \"\"\n      }\n    },\n    {\n      \"column\": \"Vendedor\",\n      \"properties\": {\n        \"dtype\": \"category\",\n        \"num_unique_values\": 6,\n        \"samples\": [\n          \"Paulo Lira\",\n          \"Diego Amorim\",\n          \"Marcus Cavalcanti\"\n        ],\n        \"semantic_type\": \"\",\n        \"description\": \"\"\n      }\n    },\n    {\n      \"column\": \"Cliente\",\n      \"properties\": {\n        \"dtype\": \"string\",\n        \"num_unique_values\": 3645,\n        \"samples\": [\n          \"Nath\\u00e1lia Baldanzi\",\n          \"Lorena Brendalina\",\n          \"Daniele Penna\"\n        ],\n        \"semantic_type\": \"\",\n        \"description\": \"\"\n      }\n    },\n    {\n      \"column\": \"Regi\\u00e3o\",\n      \"properties\": {\n        \"dtype\": \"category\",\n        \"num_unique_values\": 5,\n        \"samples\": [\n          \"Centro-Oeste\",\n          \"Nordeste\",\n          \"Norte\"\n        ],\n        \"semantic_type\": \"\",\n        \"description\": \"\"\n      }\n    },\n    {\n      \"column\": \"Produto\",\n      \"properties\": {\n        \"dtype\": \"category\",\n        \"num_unique_values\": 4,\n        \"samples\": [\n          \"Excel\",\n          \"Power BI\",\n          \"Python\"\n        ],\n        \"semantic_type\": \"\",\n        \"description\": \"\"\n      }\n    },\n    {\n      \"column\": \"Valor\",\n      \"properties\": {\n        \"dtype\": \"number\",\n        \"std\": 108,\n        \"min\": 300,\n        \"max\": 600,\n        \"num_unique_values\": 4,\n        \"samples\": [\n          500,\n          300,\n          450\n        ],\n        \"semantic_type\": \"\",\n        \"description\": \"\"\n      }\n    },\n    {\n      \"column\": \"FormaPgto\",\n      \"properties\": {\n        \"dtype\": \"category\",\n        \"num_unique_values\": 3,\n        \"samples\": [\n          \"Cart\\u00e3o de D\\u00e9bito\",\n          \"Cart\\u00e3o de Cr\\u00e9dito\",\n          \"Boleto Banc\\u00e1rio\"\n        ],\n        \"semantic_type\": \"\",\n        \"description\": \"\"\n      }\n    }\n  ]\n}"
            }
          },
          "metadata": {},
          "execution_count": 3
        }
      ]
    },
    {
      "cell_type": "markdown",
      "source": [
        "# Análise da Base Vendas"
      ],
      "metadata": {
        "id": "mbHAzLnm0pV7"
      }
    },
    {
      "cell_type": "markdown",
      "source": [
        "### Faturamento Total\n",
        "\n",
        "Abaixo temos um faturamento total de 1.696.050,00. Após a retirada do faturamento total destrinchei a análise para compreender o resultado."
      ],
      "metadata": {
        "id": "56XZZGwT03o3"
      }
    },
    {
      "cell_type": "code",
      "source": [
        "fat_total = df['Valor'].sum()\n",
        "fat_total"
      ],
      "metadata": {
        "colab": {
          "base_uri": "https://localhost:8080/"
        },
        "id": "og7NQUV40eHw",
        "outputId": "b4eb5821-37e5-4d21-920f-0b1d95398437"
      },
      "execution_count": null,
      "outputs": [
        {
          "output_type": "execute_result",
          "data": {
            "text/plain": [
              "np.int64(1696050)"
            ]
          },
          "metadata": {},
          "execution_count": 4
        }
      ]
    },
    {
      "cell_type": "markdown",
      "source": [
        "### Faturamento por Região\n",
        "\n",
        "Entre o período analisado de 2019 à 2021, a região sudeste teve o maior faturamento, o que foi oposto para região sul, sendo esta a região que menos faturou durante esse período.\n",
        "\n",
        "Abaixo dou continuidade a investigação do faturamento entre as regiões."
      ],
      "metadata": {
        "id": "uXFYg1-u1Ymm"
      }
    },
    {
      "cell_type": "code",
      "source": [
        "faturamento_regiao = df['Valor'].groupby(df['Região']).sum().sort_values(ascending=False)\n",
        "faturamento_regiao"
      ],
      "metadata": {
        "colab": {
          "base_uri": "https://localhost:8080/",
          "height": 272
        },
        "id": "RcsEDQqM0_2U",
        "outputId": "df17459a-8564-4cf9-ac9d-7d366aa4efc3"
      },
      "execution_count": null,
      "outputs": [
        {
          "output_type": "execute_result",
          "data": {
            "text/plain": [
              "Região\n",
              "Sudeste         483700\n",
              "Norte           425600\n",
              "Nordeste        300250\n",
              "Centro-Oeste    255050\n",
              "Sul             231450\n",
              "Name: Valor, dtype: int64"
            ],
            "text/html": [
              "<div>\n",
              "<style scoped>\n",
              "    .dataframe tbody tr th:only-of-type {\n",
              "        vertical-align: middle;\n",
              "    }\n",
              "\n",
              "    .dataframe tbody tr th {\n",
              "        vertical-align: top;\n",
              "    }\n",
              "\n",
              "    .dataframe thead th {\n",
              "        text-align: right;\n",
              "    }\n",
              "</style>\n",
              "<table border=\"1\" class=\"dataframe\">\n",
              "  <thead>\n",
              "    <tr style=\"text-align: right;\">\n",
              "      <th></th>\n",
              "      <th>Valor</th>\n",
              "    </tr>\n",
              "    <tr>\n",
              "      <th>Região</th>\n",
              "      <th></th>\n",
              "    </tr>\n",
              "  </thead>\n",
              "  <tbody>\n",
              "    <tr>\n",
              "      <th>Sudeste</th>\n",
              "      <td>483700</td>\n",
              "    </tr>\n",
              "    <tr>\n",
              "      <th>Norte</th>\n",
              "      <td>425600</td>\n",
              "    </tr>\n",
              "    <tr>\n",
              "      <th>Nordeste</th>\n",
              "      <td>300250</td>\n",
              "    </tr>\n",
              "    <tr>\n",
              "      <th>Centro-Oeste</th>\n",
              "      <td>255050</td>\n",
              "    </tr>\n",
              "    <tr>\n",
              "      <th>Sul</th>\n",
              "      <td>231450</td>\n",
              "    </tr>\n",
              "  </tbody>\n",
              "</table>\n",
              "</div><br><label><b>dtype:</b> int64</label>"
            ]
          },
          "metadata": {},
          "execution_count": 5
        }
      ]
    },
    {
      "cell_type": "markdown",
      "source": [
        "### Faturamento por Produto\n",
        "\n",
        "O curso de VBA teve um faturamento de 548.400,00 durante o período analisado, precisamos verificar em qual região houve a maior concentração de alunos no curso de VBA, dado que este curso custa R$ 600,00.\n",
        "\n",
        "\n",
        "Power BI foi o curso com menor faturamento, 275.400 durante o mesmo período, assim como o curso de VBA precisamos analisar a sua concentração regional, dado que o curso de Power BI custa R$ 300,00"
      ],
      "metadata": {
        "id": "aDdMZxmo2ca6"
      }
    },
    {
      "cell_type": "code",
      "source": [
        "faturamento_curso = df['Valor'].groupby(df['Produto']).sum().sort_values(ascending=False)\n",
        "faturamento_curso"
      ],
      "metadata": {
        "colab": {
          "base_uri": "https://localhost:8080/",
          "height": 241
        },
        "id": "6DbIrVhY2A9Y",
        "outputId": "50813d71-29f3-461f-9da0-d0f1a34ede67"
      },
      "execution_count": null,
      "outputs": [
        {
          "output_type": "execute_result",
          "data": {
            "text/plain": [
              "Produto\n",
              "VBA         548400\n",
              "Excel       456000\n",
              "Python      416250\n",
              "Power BI    275400\n",
              "Name: Valor, dtype: int64"
            ],
            "text/html": [
              "<div>\n",
              "<style scoped>\n",
              "    .dataframe tbody tr th:only-of-type {\n",
              "        vertical-align: middle;\n",
              "    }\n",
              "\n",
              "    .dataframe tbody tr th {\n",
              "        vertical-align: top;\n",
              "    }\n",
              "\n",
              "    .dataframe thead th {\n",
              "        text-align: right;\n",
              "    }\n",
              "</style>\n",
              "<table border=\"1\" class=\"dataframe\">\n",
              "  <thead>\n",
              "    <tr style=\"text-align: right;\">\n",
              "      <th></th>\n",
              "      <th>Valor</th>\n",
              "    </tr>\n",
              "    <tr>\n",
              "      <th>Produto</th>\n",
              "      <th></th>\n",
              "    </tr>\n",
              "  </thead>\n",
              "  <tbody>\n",
              "    <tr>\n",
              "      <th>VBA</th>\n",
              "      <td>548400</td>\n",
              "    </tr>\n",
              "    <tr>\n",
              "      <th>Excel</th>\n",
              "      <td>456000</td>\n",
              "    </tr>\n",
              "    <tr>\n",
              "      <th>Python</th>\n",
              "      <td>416250</td>\n",
              "    </tr>\n",
              "    <tr>\n",
              "      <th>Power BI</th>\n",
              "      <td>275400</td>\n",
              "    </tr>\n",
              "  </tbody>\n",
              "</table>\n",
              "</div><br><label><b>dtype:</b> int64</label>"
            ]
          },
          "metadata": {},
          "execution_count": 6
        }
      ]
    },
    {
      "cell_type": "markdown",
      "source": [
        "### Quantidade de Alunos por Região\n",
        "\n",
        "A quantidade de alunos na região sudeste justifica o faturamento, contudo ainda não o justifica por completo, precisamos compreender em qual curso houve a maior concentração e realizar uma soma ponderada para termos noção do real impacto deste dado no faturamento final.\n",
        "\n",
        "\n",
        "O mesmo podemos dizer da região sul, sendo esta a região com menor concentração de alunos em relação as outras regiões, apenas 542 alunos. Precisamos analisar qual curso houve menor concentração e realizar uma soma ponderada para termos noção do impacto deste dado no faturamento final desta região, também podemos analisar o curso com maior concentração nessa região para compreender o alcance financeiro e trabalhar em estratégias para modificar o cenário dessa região."
      ],
      "metadata": {
        "id": "rsxp3JYV2nh6"
      }
    },
    {
      "cell_type": "code",
      "source": [
        "df['Cliente'].groupby(df['Região']).count().sort_values(ascending=False)"
      ],
      "metadata": {
        "colab": {
          "base_uri": "https://localhost:8080/",
          "height": 272
        },
        "id": "6wjlJ7wf2jyz",
        "outputId": "f15f321c-065f-4834-b21d-8ab0fba2359b"
      },
      "execution_count": null,
      "outputs": [
        {
          "output_type": "execute_result",
          "data": {
            "text/plain": [
              "Região\n",
              "Sudeste         951\n",
              "Norte           930\n",
              "Nordeste        663\n",
              "Centro-Oeste    583\n",
              "Sul             542\n",
              "Name: Cliente, dtype: int64"
            ],
            "text/html": [
              "<div>\n",
              "<style scoped>\n",
              "    .dataframe tbody tr th:only-of-type {\n",
              "        vertical-align: middle;\n",
              "    }\n",
              "\n",
              "    .dataframe tbody tr th {\n",
              "        vertical-align: top;\n",
              "    }\n",
              "\n",
              "    .dataframe thead th {\n",
              "        text-align: right;\n",
              "    }\n",
              "</style>\n",
              "<table border=\"1\" class=\"dataframe\">\n",
              "  <thead>\n",
              "    <tr style=\"text-align: right;\">\n",
              "      <th></th>\n",
              "      <th>Cliente</th>\n",
              "    </tr>\n",
              "    <tr>\n",
              "      <th>Região</th>\n",
              "      <th></th>\n",
              "    </tr>\n",
              "  </thead>\n",
              "  <tbody>\n",
              "    <tr>\n",
              "      <th>Sudeste</th>\n",
              "      <td>951</td>\n",
              "    </tr>\n",
              "    <tr>\n",
              "      <th>Norte</th>\n",
              "      <td>930</td>\n",
              "    </tr>\n",
              "    <tr>\n",
              "      <th>Nordeste</th>\n",
              "      <td>663</td>\n",
              "    </tr>\n",
              "    <tr>\n",
              "      <th>Centro-Oeste</th>\n",
              "      <td>583</td>\n",
              "    </tr>\n",
              "    <tr>\n",
              "      <th>Sul</th>\n",
              "      <td>542</td>\n",
              "    </tr>\n",
              "  </tbody>\n",
              "</table>\n",
              "</div><br><label><b>dtype:</b> int64</label>"
            ]
          },
          "metadata": {},
          "execution_count": 7
        }
      ]
    },
    {
      "cell_type": "markdown",
      "source": [
        "### Quantidade de Alunos por Curso\n",
        "\n",
        "Python é o curso com maior concentração de alunos, contudo é VBA que possui o maior faturamento, logo o que fez a diferença foi o preço do curso, enquanto Python custa 450,00, o curso de VBA custa 600,00 o que resulta em uma soma ponderada favorável para este curso."
      ],
      "metadata": {
        "id": "1zUULwdn203z"
      }
    },
    {
      "cell_type": "code",
      "source": [
        "df['Cliente'].groupby(df['Produto']).count().sort_values(ascending=False)"
      ],
      "metadata": {
        "colab": {
          "base_uri": "https://localhost:8080/",
          "height": 241
        },
        "id": "MgdT9UPI2xFC",
        "outputId": "7bc1903e-380c-45cb-e64a-c761aaf55b00"
      },
      "execution_count": null,
      "outputs": [
        {
          "output_type": "execute_result",
          "data": {
            "text/plain": [
              "Produto\n",
              "Python      925\n",
              "Power BI    918\n",
              "VBA         914\n",
              "Excel       912\n",
              "Name: Cliente, dtype: int64"
            ],
            "text/html": [
              "<div>\n",
              "<style scoped>\n",
              "    .dataframe tbody tr th:only-of-type {\n",
              "        vertical-align: middle;\n",
              "    }\n",
              "\n",
              "    .dataframe tbody tr th {\n",
              "        vertical-align: top;\n",
              "    }\n",
              "\n",
              "    .dataframe thead th {\n",
              "        text-align: right;\n",
              "    }\n",
              "</style>\n",
              "<table border=\"1\" class=\"dataframe\">\n",
              "  <thead>\n",
              "    <tr style=\"text-align: right;\">\n",
              "      <th></th>\n",
              "      <th>Cliente</th>\n",
              "    </tr>\n",
              "    <tr>\n",
              "      <th>Produto</th>\n",
              "      <th></th>\n",
              "    </tr>\n",
              "  </thead>\n",
              "  <tbody>\n",
              "    <tr>\n",
              "      <th>Python</th>\n",
              "      <td>925</td>\n",
              "    </tr>\n",
              "    <tr>\n",
              "      <th>Power BI</th>\n",
              "      <td>918</td>\n",
              "    </tr>\n",
              "    <tr>\n",
              "      <th>VBA</th>\n",
              "      <td>914</td>\n",
              "    </tr>\n",
              "    <tr>\n",
              "      <th>Excel</th>\n",
              "      <td>912</td>\n",
              "    </tr>\n",
              "  </tbody>\n",
              "</table>\n",
              "</div><br><label><b>dtype:</b> int64</label>"
            ]
          },
          "metadata": {},
          "execution_count": 8
        }
      ]
    },
    {
      "cell_type": "markdown",
      "source": [
        "### Quantidade de Aluno por Curso em cada Região\n",
        "\n",
        "Com a tabela abaixo temos um panorama sobre alunos por curso em cada região, isso nos ajuda a compreender o faturamento de cada região. Se formos ver a região sudeste tem um \"boom\" no curso de VBA, com 449 alunos a 600,00 cada, o que resulta em um aumento significativo no faturamento final desta região.\n",
        "\n",
        "Por outro lado o curso de Excel teve menor adesão na região sul, tendo apenas 72 alunos a 500,00 cada. Mesmo que o curso de Power BI seja o curso com maior adesão de alunos nessa região, o preço do curso não agrega no faturamento final."
      ],
      "metadata": {
        "id": "mnC21_W_4kzp"
      }
    },
    {
      "cell_type": "code",
      "source": [
        "pd.crosstab(df['Região'], df['Produto'])"
      ],
      "metadata": {
        "colab": {
          "base_uri": "https://localhost:8080/",
          "height": 237
        },
        "id": "Qdf59KXO26Uo",
        "outputId": "013a4e36-0857-4d16-fd94-0cc60700f77b"
      },
      "execution_count": null,
      "outputs": [
        {
          "output_type": "execute_result",
          "data": {
            "text/plain": [
              "Produto       Excel  Power BI  Python  VBA\n",
              "Região                                    \n",
              "Centro-Oeste     91       180     211  101\n",
              "Nordeste        263       151     173   76\n",
              "Norte           274       236     228  192\n",
              "Sudeste         212       148     142  449\n",
              "Sul              72       203     171   96"
            ],
            "text/html": [
              "\n",
              "  <div id=\"df-e19b89f9-5919-49f4-8974-f195e06879c3\" class=\"colab-df-container\">\n",
              "    <div>\n",
              "<style scoped>\n",
              "    .dataframe tbody tr th:only-of-type {\n",
              "        vertical-align: middle;\n",
              "    }\n",
              "\n",
              "    .dataframe tbody tr th {\n",
              "        vertical-align: top;\n",
              "    }\n",
              "\n",
              "    .dataframe thead th {\n",
              "        text-align: right;\n",
              "    }\n",
              "</style>\n",
              "<table border=\"1\" class=\"dataframe\">\n",
              "  <thead>\n",
              "    <tr style=\"text-align: right;\">\n",
              "      <th>Produto</th>\n",
              "      <th>Excel</th>\n",
              "      <th>Power BI</th>\n",
              "      <th>Python</th>\n",
              "      <th>VBA</th>\n",
              "    </tr>\n",
              "    <tr>\n",
              "      <th>Região</th>\n",
              "      <th></th>\n",
              "      <th></th>\n",
              "      <th></th>\n",
              "      <th></th>\n",
              "    </tr>\n",
              "  </thead>\n",
              "  <tbody>\n",
              "    <tr>\n",
              "      <th>Centro-Oeste</th>\n",
              "      <td>91</td>\n",
              "      <td>180</td>\n",
              "      <td>211</td>\n",
              "      <td>101</td>\n",
              "    </tr>\n",
              "    <tr>\n",
              "      <th>Nordeste</th>\n",
              "      <td>263</td>\n",
              "      <td>151</td>\n",
              "      <td>173</td>\n",
              "      <td>76</td>\n",
              "    </tr>\n",
              "    <tr>\n",
              "      <th>Norte</th>\n",
              "      <td>274</td>\n",
              "      <td>236</td>\n",
              "      <td>228</td>\n",
              "      <td>192</td>\n",
              "    </tr>\n",
              "    <tr>\n",
              "      <th>Sudeste</th>\n",
              "      <td>212</td>\n",
              "      <td>148</td>\n",
              "      <td>142</td>\n",
              "      <td>449</td>\n",
              "    </tr>\n",
              "    <tr>\n",
              "      <th>Sul</th>\n",
              "      <td>72</td>\n",
              "      <td>203</td>\n",
              "      <td>171</td>\n",
              "      <td>96</td>\n",
              "    </tr>\n",
              "  </tbody>\n",
              "</table>\n",
              "</div>\n",
              "    <div class=\"colab-df-buttons\">\n",
              "\n",
              "  <div class=\"colab-df-container\">\n",
              "    <button class=\"colab-df-convert\" onclick=\"convertToInteractive('df-e19b89f9-5919-49f4-8974-f195e06879c3')\"\n",
              "            title=\"Convert this dataframe to an interactive table.\"\n",
              "            style=\"display:none;\">\n",
              "\n",
              "  <svg xmlns=\"http://www.w3.org/2000/svg\" height=\"24px\" viewBox=\"0 -960 960 960\">\n",
              "    <path d=\"M120-120v-720h720v720H120Zm60-500h600v-160H180v160Zm220 220h160v-160H400v160Zm0 220h160v-160H400v160ZM180-400h160v-160H180v160Zm440 0h160v-160H620v160ZM180-180h160v-160H180v160Zm440 0h160v-160H620v160Z\"/>\n",
              "  </svg>\n",
              "    </button>\n",
              "\n",
              "  <style>\n",
              "    .colab-df-container {\n",
              "      display:flex;\n",
              "      gap: 12px;\n",
              "    }\n",
              "\n",
              "    .colab-df-convert {\n",
              "      background-color: #E8F0FE;\n",
              "      border: none;\n",
              "      border-radius: 50%;\n",
              "      cursor: pointer;\n",
              "      display: none;\n",
              "      fill: #1967D2;\n",
              "      height: 32px;\n",
              "      padding: 0 0 0 0;\n",
              "      width: 32px;\n",
              "    }\n",
              "\n",
              "    .colab-df-convert:hover {\n",
              "      background-color: #E2EBFA;\n",
              "      box-shadow: 0px 1px 2px rgba(60, 64, 67, 0.3), 0px 1px 3px 1px rgba(60, 64, 67, 0.15);\n",
              "      fill: #174EA6;\n",
              "    }\n",
              "\n",
              "    .colab-df-buttons div {\n",
              "      margin-bottom: 4px;\n",
              "    }\n",
              "\n",
              "    [theme=dark] .colab-df-convert {\n",
              "      background-color: #3B4455;\n",
              "      fill: #D2E3FC;\n",
              "    }\n",
              "\n",
              "    [theme=dark] .colab-df-convert:hover {\n",
              "      background-color: #434B5C;\n",
              "      box-shadow: 0px 1px 3px 1px rgba(0, 0, 0, 0.15);\n",
              "      filter: drop-shadow(0px 1px 2px rgba(0, 0, 0, 0.3));\n",
              "      fill: #FFFFFF;\n",
              "    }\n",
              "  </style>\n",
              "\n",
              "    <script>\n",
              "      const buttonEl =\n",
              "        document.querySelector('#df-e19b89f9-5919-49f4-8974-f195e06879c3 button.colab-df-convert');\n",
              "      buttonEl.style.display =\n",
              "        google.colab.kernel.accessAllowed ? 'block' : 'none';\n",
              "\n",
              "      async function convertToInteractive(key) {\n",
              "        const element = document.querySelector('#df-e19b89f9-5919-49f4-8974-f195e06879c3');\n",
              "        const dataTable =\n",
              "          await google.colab.kernel.invokeFunction('convertToInteractive',\n",
              "                                                    [key], {});\n",
              "        if (!dataTable) return;\n",
              "\n",
              "        const docLinkHtml = 'Like what you see? Visit the ' +\n",
              "          '<a target=\"_blank\" href=https://colab.research.google.com/notebooks/data_table.ipynb>data table notebook</a>'\n",
              "          + ' to learn more about interactive tables.';\n",
              "        element.innerHTML = '';\n",
              "        dataTable['output_type'] = 'display_data';\n",
              "        await google.colab.output.renderOutput(dataTable, element);\n",
              "        const docLink = document.createElement('div');\n",
              "        docLink.innerHTML = docLinkHtml;\n",
              "        element.appendChild(docLink);\n",
              "      }\n",
              "    </script>\n",
              "  </div>\n",
              "\n",
              "\n",
              "    <div id=\"df-f05bf41f-7c3b-4e15-8976-d93835e0e6bf\">\n",
              "      <button class=\"colab-df-quickchart\" onclick=\"quickchart('df-f05bf41f-7c3b-4e15-8976-d93835e0e6bf')\"\n",
              "                title=\"Suggest charts\"\n",
              "                style=\"display:none;\">\n",
              "\n",
              "<svg xmlns=\"http://www.w3.org/2000/svg\" height=\"24px\"viewBox=\"0 0 24 24\"\n",
              "     width=\"24px\">\n",
              "    <g>\n",
              "        <path d=\"M19 3H5c-1.1 0-2 .9-2 2v14c0 1.1.9 2 2 2h14c1.1 0 2-.9 2-2V5c0-1.1-.9-2-2-2zM9 17H7v-7h2v7zm4 0h-2V7h2v10zm4 0h-2v-4h2v4z\"/>\n",
              "    </g>\n",
              "</svg>\n",
              "      </button>\n",
              "\n",
              "<style>\n",
              "  .colab-df-quickchart {\n",
              "      --bg-color: #E8F0FE;\n",
              "      --fill-color: #1967D2;\n",
              "      --hover-bg-color: #E2EBFA;\n",
              "      --hover-fill-color: #174EA6;\n",
              "      --disabled-fill-color: #AAA;\n",
              "      --disabled-bg-color: #DDD;\n",
              "  }\n",
              "\n",
              "  [theme=dark] .colab-df-quickchart {\n",
              "      --bg-color: #3B4455;\n",
              "      --fill-color: #D2E3FC;\n",
              "      --hover-bg-color: #434B5C;\n",
              "      --hover-fill-color: #FFFFFF;\n",
              "      --disabled-bg-color: #3B4455;\n",
              "      --disabled-fill-color: #666;\n",
              "  }\n",
              "\n",
              "  .colab-df-quickchart {\n",
              "    background-color: var(--bg-color);\n",
              "    border: none;\n",
              "    border-radius: 50%;\n",
              "    cursor: pointer;\n",
              "    display: none;\n",
              "    fill: var(--fill-color);\n",
              "    height: 32px;\n",
              "    padding: 0;\n",
              "    width: 32px;\n",
              "  }\n",
              "\n",
              "  .colab-df-quickchart:hover {\n",
              "    background-color: var(--hover-bg-color);\n",
              "    box-shadow: 0 1px 2px rgba(60, 64, 67, 0.3), 0 1px 3px 1px rgba(60, 64, 67, 0.15);\n",
              "    fill: var(--button-hover-fill-color);\n",
              "  }\n",
              "\n",
              "  .colab-df-quickchart-complete:disabled,\n",
              "  .colab-df-quickchart-complete:disabled:hover {\n",
              "    background-color: var(--disabled-bg-color);\n",
              "    fill: var(--disabled-fill-color);\n",
              "    box-shadow: none;\n",
              "  }\n",
              "\n",
              "  .colab-df-spinner {\n",
              "    border: 2px solid var(--fill-color);\n",
              "    border-color: transparent;\n",
              "    border-bottom-color: var(--fill-color);\n",
              "    animation:\n",
              "      spin 1s steps(1) infinite;\n",
              "  }\n",
              "\n",
              "  @keyframes spin {\n",
              "    0% {\n",
              "      border-color: transparent;\n",
              "      border-bottom-color: var(--fill-color);\n",
              "      border-left-color: var(--fill-color);\n",
              "    }\n",
              "    20% {\n",
              "      border-color: transparent;\n",
              "      border-left-color: var(--fill-color);\n",
              "      border-top-color: var(--fill-color);\n",
              "    }\n",
              "    30% {\n",
              "      border-color: transparent;\n",
              "      border-left-color: var(--fill-color);\n",
              "      border-top-color: var(--fill-color);\n",
              "      border-right-color: var(--fill-color);\n",
              "    }\n",
              "    40% {\n",
              "      border-color: transparent;\n",
              "      border-right-color: var(--fill-color);\n",
              "      border-top-color: var(--fill-color);\n",
              "    }\n",
              "    60% {\n",
              "      border-color: transparent;\n",
              "      border-right-color: var(--fill-color);\n",
              "    }\n",
              "    80% {\n",
              "      border-color: transparent;\n",
              "      border-right-color: var(--fill-color);\n",
              "      border-bottom-color: var(--fill-color);\n",
              "    }\n",
              "    90% {\n",
              "      border-color: transparent;\n",
              "      border-bottom-color: var(--fill-color);\n",
              "    }\n",
              "  }\n",
              "</style>\n",
              "\n",
              "      <script>\n",
              "        async function quickchart(key) {\n",
              "          const quickchartButtonEl =\n",
              "            document.querySelector('#' + key + ' button');\n",
              "          quickchartButtonEl.disabled = true;  // To prevent multiple clicks.\n",
              "          quickchartButtonEl.classList.add('colab-df-spinner');\n",
              "          try {\n",
              "            const charts = await google.colab.kernel.invokeFunction(\n",
              "                'suggestCharts', [key], {});\n",
              "          } catch (error) {\n",
              "            console.error('Error during call to suggestCharts:', error);\n",
              "          }\n",
              "          quickchartButtonEl.classList.remove('colab-df-spinner');\n",
              "          quickchartButtonEl.classList.add('colab-df-quickchart-complete');\n",
              "        }\n",
              "        (() => {\n",
              "          let quickchartButtonEl =\n",
              "            document.querySelector('#df-f05bf41f-7c3b-4e15-8976-d93835e0e6bf button');\n",
              "          quickchartButtonEl.style.display =\n",
              "            google.colab.kernel.accessAllowed ? 'block' : 'none';\n",
              "        })();\n",
              "      </script>\n",
              "    </div>\n",
              "\n",
              "    </div>\n",
              "  </div>\n"
            ],
            "application/vnd.google.colaboratory.intrinsic+json": {
              "type": "dataframe",
              "summary": "{\n  \"name\": \"pd\",\n  \"rows\": 5,\n  \"fields\": [\n    {\n      \"column\": \"Regi\\u00e3o\",\n      \"properties\": {\n        \"dtype\": \"string\",\n        \"num_unique_values\": 5,\n        \"samples\": [\n          \"Nordeste\",\n          \"Sul\",\n          \"Norte\"\n        ],\n        \"semantic_type\": \"\",\n        \"description\": \"\"\n      }\n    },\n    {\n      \"column\": \"Excel\",\n      \"properties\": {\n        \"dtype\": \"number\",\n        \"std\": 95,\n        \"min\": 72,\n        \"max\": 274,\n        \"num_unique_values\": 5,\n        \"samples\": [\n          263,\n          72,\n          274\n        ],\n        \"semantic_type\": \"\",\n        \"description\": \"\"\n      }\n    },\n    {\n      \"column\": \"Power BI\",\n      \"properties\": {\n        \"dtype\": \"number\",\n        \"std\": 36,\n        \"min\": 148,\n        \"max\": 236,\n        \"num_unique_values\": 5,\n        \"samples\": [\n          151,\n          203,\n          236\n        ],\n        \"semantic_type\": \"\",\n        \"description\": \"\"\n      }\n    },\n    {\n      \"column\": \"Python\",\n      \"properties\": {\n        \"dtype\": \"number\",\n        \"std\": 34,\n        \"min\": 142,\n        \"max\": 228,\n        \"num_unique_values\": 5,\n        \"samples\": [\n          173,\n          171,\n          228\n        ],\n        \"semantic_type\": \"\",\n        \"description\": \"\"\n      }\n    },\n    {\n      \"column\": \"VBA\",\n      \"properties\": {\n        \"dtype\": \"number\",\n        \"std\": 155,\n        \"min\": 76,\n        \"max\": 449,\n        \"num_unique_values\": 5,\n        \"samples\": [\n          76,\n          96,\n          192\n        ],\n        \"semantic_type\": \"\",\n        \"description\": \"\"\n      }\n    }\n  ]\n}"
            }
          },
          "metadata": {},
          "execution_count": 9
        }
      ]
    },
    {
      "cell_type": "markdown",
      "source": [
        "### Valor em média de cada curso\n",
        "\n",
        "Os dados abaixo foram extraídos apenas para sabermos o impacto do valor do curso no faturamento final."
      ],
      "metadata": {
        "id": "TNoIBFh3ISmO"
      }
    },
    {
      "cell_type": "code",
      "source": [
        "df['Valor'].groupby(df['Produto']).mean().sort_values(ascending=False)"
      ],
      "metadata": {
        "colab": {
          "base_uri": "https://localhost:8080/",
          "height": 241
        },
        "id": "fVSUtsHG6Sq3",
        "outputId": "2b1429c8-c12a-47d0-f61a-3f36ec0bddb6"
      },
      "execution_count": null,
      "outputs": [
        {
          "output_type": "execute_result",
          "data": {
            "text/plain": [
              "Produto\n",
              "VBA         600.0\n",
              "Excel       500.0\n",
              "Python      450.0\n",
              "Power BI    300.0\n",
              "Name: Valor, dtype: float64"
            ],
            "text/html": [
              "<div>\n",
              "<style scoped>\n",
              "    .dataframe tbody tr th:only-of-type {\n",
              "        vertical-align: middle;\n",
              "    }\n",
              "\n",
              "    .dataframe tbody tr th {\n",
              "        vertical-align: top;\n",
              "    }\n",
              "\n",
              "    .dataframe thead th {\n",
              "        text-align: right;\n",
              "    }\n",
              "</style>\n",
              "<table border=\"1\" class=\"dataframe\">\n",
              "  <thead>\n",
              "    <tr style=\"text-align: right;\">\n",
              "      <th></th>\n",
              "      <th>Valor</th>\n",
              "    </tr>\n",
              "    <tr>\n",
              "      <th>Produto</th>\n",
              "      <th></th>\n",
              "    </tr>\n",
              "  </thead>\n",
              "  <tbody>\n",
              "    <tr>\n",
              "      <th>VBA</th>\n",
              "      <td>600.0</td>\n",
              "    </tr>\n",
              "    <tr>\n",
              "      <th>Excel</th>\n",
              "      <td>500.0</td>\n",
              "    </tr>\n",
              "    <tr>\n",
              "      <th>Python</th>\n",
              "      <td>450.0</td>\n",
              "    </tr>\n",
              "    <tr>\n",
              "      <th>Power BI</th>\n",
              "      <td>300.0</td>\n",
              "    </tr>\n",
              "  </tbody>\n",
              "</table>\n",
              "</div><br><label><b>dtype:</b> float64</label>"
            ]
          },
          "metadata": {},
          "execution_count": 10
        }
      ]
    },
    {
      "cell_type": "markdown",
      "source": [
        "### Faturamento por Vendedor\n",
        "\n",
        "Esse dado é importante para ações de recompensa e reconhecimento àqueles vendedores que tiveram bons resultados, além de trazer meios de treinamento para qualificar o restante da equipe de vendas para que possam também obter bons resultados.\n",
        "\n",
        "Como os vendedores é o ínicio para a adesão do curso, servindo como se fosse uma porta de entrada, mantê-la de forma atraente e convidativa pode resultar em mais alunos e consequentemente no aumento do faturamento."
      ],
      "metadata": {
        "id": "qP2JNxAQIaMy"
      }
    },
    {
      "cell_type": "code",
      "source": [
        "faturamento_vendedor = df['Valor'].groupby(df['Vendedor']).sum().sort_values(ascending=False)\n",
        "faturamento_vendedor"
      ],
      "metadata": {
        "colab": {
          "base_uri": "https://localhost:8080/",
          "height": 303
        },
        "id": "faDpROcYH66b",
        "outputId": "16f4dc7a-1f2e-45f2-db05-5ed4bd6c94b3"
      },
      "execution_count": null,
      "outputs": [
        {
          "output_type": "execute_result",
          "data": {
            "text/plain": [
              "Vendedor\n",
              "Marcus Cavalcanti    306750\n",
              "Alon Pinheiro        290800\n",
              "Paulo Lira           285200\n",
              "Diego Amorim         280050\n",
              "Gabriel Cajado       270550\n",
              "João Martins         262700\n",
              "Name: Valor, dtype: int64"
            ],
            "text/html": [
              "<div>\n",
              "<style scoped>\n",
              "    .dataframe tbody tr th:only-of-type {\n",
              "        vertical-align: middle;\n",
              "    }\n",
              "\n",
              "    .dataframe tbody tr th {\n",
              "        vertical-align: top;\n",
              "    }\n",
              "\n",
              "    .dataframe thead th {\n",
              "        text-align: right;\n",
              "    }\n",
              "</style>\n",
              "<table border=\"1\" class=\"dataframe\">\n",
              "  <thead>\n",
              "    <tr style=\"text-align: right;\">\n",
              "      <th></th>\n",
              "      <th>Valor</th>\n",
              "    </tr>\n",
              "    <tr>\n",
              "      <th>Vendedor</th>\n",
              "      <th></th>\n",
              "    </tr>\n",
              "  </thead>\n",
              "  <tbody>\n",
              "    <tr>\n",
              "      <th>Marcus Cavalcanti</th>\n",
              "      <td>306750</td>\n",
              "    </tr>\n",
              "    <tr>\n",
              "      <th>Alon Pinheiro</th>\n",
              "      <td>290800</td>\n",
              "    </tr>\n",
              "    <tr>\n",
              "      <th>Paulo Lira</th>\n",
              "      <td>285200</td>\n",
              "    </tr>\n",
              "    <tr>\n",
              "      <th>Diego Amorim</th>\n",
              "      <td>280050</td>\n",
              "    </tr>\n",
              "    <tr>\n",
              "      <th>Gabriel Cajado</th>\n",
              "      <td>270550</td>\n",
              "    </tr>\n",
              "    <tr>\n",
              "      <th>João Martins</th>\n",
              "      <td>262700</td>\n",
              "    </tr>\n",
              "  </tbody>\n",
              "</table>\n",
              "</div><br><label><b>dtype:</b> int64</label>"
            ]
          },
          "metadata": {},
          "execution_count": 11
        }
      ]
    },
    {
      "cell_type": "markdown",
      "source": [
        "### Faturamento por Ano\n",
        "\n",
        "Realizar a análise do faturamento anual em vez do faturamento mensal me parece mais importante porque poderíamos posteriormente atualizar a análise a cada dois anos, o que a torna em quadro progressivo em que a história da empresa pode ser contada anualmente.\n",
        "\n",
        "Contudo pensar em uma análise mensal não estaria errado, poderíamos analisar por trimestre ou semestre por exemplo, mas seria de um ano para o outro.\n",
        "\n",
        "Quando fazemos a análise anual podemos condensar as informações mais relevantes de cada ano e fazer um comparativo, após isso montar estratégias para os próximos dois anos."
      ],
      "metadata": {
        "id": "xvO5BeGaI4wF"
      }
    },
    {
      "cell_type": "code",
      "source": [
        "faturamento_ano = df['Valor'].groupby(df['Ano']).sum().sort_values(ascending=False)\n",
        "faturamento_ano"
      ],
      "metadata": {
        "colab": {
          "base_uri": "https://localhost:8080/",
          "height": 209
        },
        "id": "PU1xiC9nIhBU",
        "outputId": "8991e25b-4740-4e02-8c6c-68ab4da740ae"
      },
      "execution_count": null,
      "outputs": [
        {
          "output_type": "execute_result",
          "data": {
            "text/plain": [
              "Ano\n",
              "2020    571150\n",
              "2019    563800\n",
              "2021    561100\n",
              "Name: Valor, dtype: int64"
            ],
            "text/html": [
              "<div>\n",
              "<style scoped>\n",
              "    .dataframe tbody tr th:only-of-type {\n",
              "        vertical-align: middle;\n",
              "    }\n",
              "\n",
              "    .dataframe tbody tr th {\n",
              "        vertical-align: top;\n",
              "    }\n",
              "\n",
              "    .dataframe thead th {\n",
              "        text-align: right;\n",
              "    }\n",
              "</style>\n",
              "<table border=\"1\" class=\"dataframe\">\n",
              "  <thead>\n",
              "    <tr style=\"text-align: right;\">\n",
              "      <th></th>\n",
              "      <th>Valor</th>\n",
              "    </tr>\n",
              "    <tr>\n",
              "      <th>Ano</th>\n",
              "      <th></th>\n",
              "    </tr>\n",
              "  </thead>\n",
              "  <tbody>\n",
              "    <tr>\n",
              "      <th>2020</th>\n",
              "      <td>571150</td>\n",
              "    </tr>\n",
              "    <tr>\n",
              "      <th>2019</th>\n",
              "      <td>563800</td>\n",
              "    </tr>\n",
              "    <tr>\n",
              "      <th>2021</th>\n",
              "      <td>561100</td>\n",
              "    </tr>\n",
              "  </tbody>\n",
              "</table>\n",
              "</div><br><label><b>dtype:</b> int64</label>"
            ]
          },
          "metadata": {},
          "execution_count": 12
        }
      ]
    },
    {
      "cell_type": "markdown",
      "source": [
        "### Percentual de Participação por Região"
      ],
      "metadata": {
        "id": "scC24D4lzArb"
      }
    },
    {
      "cell_type": "code",
      "source": [
        "faturamento_regiao = pd.DataFrame(faturamento_regiao)\n",
        "faturamento_regiao['Participação (%)'] = (faturamento_regiao['Valor'] / fat_total) * 100\n",
        "faturamento_regiao"
      ],
      "metadata": {
        "id": "ro-NndKYzj2W"
      },
      "execution_count": null,
      "outputs": []
    },
    {
      "cell_type": "markdown",
      "source": [
        "### Percentual de Participação por Curso\n",
        "\n",
        "\n",
        "O percentual de participação por curso nos fornece a informação do quanto o curso de VBA que teve o maior faturamento participou no faturamento total, essa informação é importante porque revela o real impacto do curso de VBA no faturamento final, mostra o quão decisivo ele foi durante os dois anos analisados.\n",
        "\n",
        "A mesma a análise aponta para abaixa participação do curso de Power BI durante os dois anos. Como o curso é o mais barato o impacto não é tão sentido, contudo se fosse o mais caro, abaixa adesão poderia resultar em faturamento baixo, apontando talvez para um problema de custeio do curso por parte dos estudantes, seria preciso talvez trabalhar em promoções e desconto, caso não coubesse uma redução do preço do curso devida a manutenção dos equipamentos para realizá-lo."
      ],
      "metadata": {
        "id": "1SflHE-50R8w"
      }
    },
    {
      "cell_type": "code",
      "source": [
        "faturamento_curso = pd.DataFrame(faturamento_curso)\n",
        "faturamento_curso['Participação (%)'] = (faturamento_curso['Valor'] / fat_total) * 100\n",
        "faturamento_curso"
      ],
      "metadata": {
        "id": "VIjrgFu90VRV"
      },
      "execution_count": null,
      "outputs": []
    },
    {
      "cell_type": "markdown",
      "source": [
        "### Percentual de Participação por Vendedor"
      ],
      "metadata": {
        "id": "AUNUbs2X19Bf"
      }
    },
    {
      "cell_type": "code",
      "source": [
        "faturamento_vendedor = pd.DataFrame(faturamento_vendedor)\n",
        "faturamento_vendedor['Participação (%)'] = (faturamento_vendedor['Valor'] / fat_total) * 100\n",
        "faturamento_vendedor"
      ],
      "metadata": {
        "id": "MGB28jua1zsb"
      },
      "execution_count": null,
      "outputs": []
    },
    {
      "cell_type": "markdown",
      "source": [
        "### Percentual de Participação por Ano"
      ],
      "metadata": {
        "id": "o4jCZ6lz2TWM"
      }
    },
    {
      "cell_type": "code",
      "source": [
        "faturamento_ano= pd.DataFrame(faturamento_ano)\n",
        "faturamento_ano['Participação (%)'] = (faturamento_ano['Valor'] / fat_total) * 100\n",
        "faturamento_ano"
      ],
      "metadata": {
        "id": "OIbl87rS2W1C"
      },
      "execution_count": null,
      "outputs": []
    },
    {
      "cell_type": "markdown",
      "source": [
        "### Percentual de Participação por Vendedor e por Ano (Análise)\n",
        "\n",
        "Em ambos cenários os percentuais foram muito próximos em comparação com as outras variáveis da mesma categoria.\n",
        "\n",
        "Sobre os vendedores: Gabriel Cajado e João Martins, os quais tiveram menor participação, caberia um treinamento para qualificá-los ainda mais e aumentar o percentual de participação para os próximos dois anos."
      ],
      "metadata": {
        "id": "zzbDcrwL5wv_"
      }
    }
  ]
}